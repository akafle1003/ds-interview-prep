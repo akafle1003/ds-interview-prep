{
 "cells": [
  {
   "cell_type": "markdown",
   "metadata": {},
   "source": [
    "### Given two sorted lists, merge them into a single array\n"
   ]
  },
  {
   "cell_type": "code",
   "execution_count": 1,
   "metadata": {},
   "outputs": [],
   "source": [
    "a = [1,2,3,5,7]\n",
    "b = [3,4,10]"
   ]
  },
  {
   "cell_type": "code",
   "execution_count": 2,
   "metadata": {},
   "outputs": [],
   "source": [
    "def merge(a,b):\n",
    "    n1 = len(a)\n",
    "    n2 = len(b)\n",
    "\n",
    "    sorted_list = []\n",
    "    \n",
    "    i, j = 0, 0\n",
    "    while (i < n1) & (j < n2):\n",
    "        if i < n1:\n",
    "            v_a = a[i]\n",
    "\n",
    "        if j < n2:\n",
    "            v_b = b[j]\n",
    "        \n",
    "        if (v_a <= v_b):\n",
    "            sorted_list.append(v_a)\n",
    "            i += 1\n",
    "\n",
    "        if (v_a >= v_b):\n",
    "            sorted_list.append(v_b)\n",
    "            j += 1\n",
    "\n",
    "    # last values\n",
    "    if v_a < v_b:\n",
    "        sorted_list.append(v_b)\n",
    "    else:\n",
    "        sorted_list.append(v_a)\n",
    "\n",
    "    return sorted_list"
   ]
  },
  {
   "cell_type": "code",
   "execution_count": null,
   "metadata": {},
   "outputs": [],
   "source": []
  }
 ],
 "metadata": {
  "kernelspec": {
   "display_name": "Python 3",
   "language": "python",
   "name": "python3"
  },
  "language_info": {
   "codemirror_mode": {
    "name": "ipython",
    "version": 3
   },
   "file_extension": ".py",
   "mimetype": "text/x-python",
   "name": "python",
   "nbconvert_exporter": "python",
   "pygments_lexer": "ipython3",
   "version": "3.6.5"
  }
 },
 "nbformat": 4,
 "nbformat_minor": 2
}
