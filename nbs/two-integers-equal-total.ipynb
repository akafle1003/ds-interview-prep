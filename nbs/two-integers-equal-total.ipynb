{
 "cells": [
  {
   "cell_type": "markdown",
   "metadata": {},
   "source": [
    "### Integer array get pairs of values that equal a certain target value  \n",
    "\n",
    "```\n",
    "# assume sorted\n",
    "# assume all positive\n",
    "a = [1,2,3,4,5,6,7,8,9]\n",
    "target = 10\n",
    "```"
   ]
  },
  {
   "cell_type": "code",
   "execution_count": 2,
   "metadata": {},
   "outputs": [],
   "source": [
    "import random\n",
    "\n",
    "def get_pairs(a, target=10):\n",
    "    pairs = []\n",
    "    j = 0 \n",
    "    k = len(a) -1\n",
    "    \n",
    "    while j <= k:\n",
    "        if a[j] + a[k] < target:\n",
    "            j += 1\n",
    "        elif a[j] + a[k] > target:\n",
    "            k -= 1\n",
    "        else:\n",
    "            pairs.append([a[j], a[k]])\n",
    "            j +=1\n",
    "        \n",
    "    return pairs\n",
    "    \n",
    "            \n",
    "    \n",
    "a = [1, 2, 3, 4, 5, 6, 7, 8, 9, 10, 11, 12]"
   ]
  },
  {
   "cell_type": "code",
   "execution_count": null,
   "metadata": {},
   "outputs": [],
   "source": []
  }
 ],
 "metadata": {
  "kernelspec": {
   "display_name": "Python 3",
   "language": "python",
   "name": "python3"
  },
  "language_info": {
   "codemirror_mode": {
    "name": "ipython",
    "version": 3
   },
   "file_extension": ".py",
   "mimetype": "text/x-python",
   "name": "python",
   "nbconvert_exporter": "python",
   "pygments_lexer": "ipython3",
   "version": "3.6.5"
  }
 },
 "nbformat": 4,
 "nbformat_minor": 2
}
