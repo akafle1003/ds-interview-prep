{
 "cells": [
  {
   "cell_type": "markdown",
   "metadata": {},
   "source": [
    "### Given a list of numbers, give a rolling average over m elements\n",
    "\n",
    "```python\n",
    "a = [1, 2, 3, 4, 5, 6, 7, 8, 9, 10]\n",
    "m = 4\n",
    "\n",
    "n = 1 avg[1,2,3,4]\n",
    "n = 2 avg[2,3,4,5]\n",
    "```"
   ]
  },
  {
   "cell_type": "code",
   "execution_count": 1,
   "metadata": {},
   "outputs": [],
   "source": [
    "a = [1, 2, 3, 4, 5, 6, 7, 8, 9, 10]\n",
    "\n",
    "def rolling_avg(a, m=4):\n",
    "    length = len(a)\n",
    "    buffer = [None] * m\n",
    "    buffer[:m] = a[:m]\n",
    "    avgs = [sum(buffer) / m]\n",
    "    k = m\n",
    "    \n",
    "    while k < length:\n",
    "        buffer.pop(0)\n",
    "        buffer.append(a[k])\n",
    "        k += 1\n",
    "        avgs.append(sum(buffer) / m)\n",
    "            \n",
    "    print(k, a)\n",
    "    return avgs\n",
    "    "
   ]
  },
  {
   "cell_type": "code",
   "execution_count": null,
   "metadata": {},
   "outputs": [],
   "source": []
  }
 ],
 "metadata": {
  "kernelspec": {
   "display_name": "Python 3",
   "language": "python",
   "name": "python3"
  },
  "language_info": {
   "codemirror_mode": {
    "name": "ipython",
    "version": 3
   },
   "file_extension": ".py",
   "mimetype": "text/x-python",
   "name": "python",
   "nbconvert_exporter": "python",
   "pygments_lexer": "ipython3",
   "version": "3.6.5"
  }
 },
 "nbformat": 4,
 "nbformat_minor": 2
}
