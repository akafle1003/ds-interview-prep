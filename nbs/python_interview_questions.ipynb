{
 "cells": [
  {
   "cell_type": "markdown",
   "metadata": {},
   "source": [
    "### Given two sorted lists, merge them into a single array"
   ]
  },
  {
   "cell_type": "code",
   "execution_count": 87,
   "metadata": {},
   "outputs": [],
   "source": [
    "a = [1,2,3,5,7]\n",
    "b = [3,4,10]"
   ]
  },
  {
   "cell_type": "code",
   "execution_count": 88,
   "metadata": {},
   "outputs": [],
   "source": [
    "def merge(a,b):\n",
    "    n1 = len(a)\n",
    "    n2 = len(b)\n",
    "\n",
    "    sorted_list = []\n",
    "    \n",
    "    i, j = 0, 0\n",
    "    while (i < n1) & (j < n2):\n",
    "        if i < n1:\n",
    "            v_a = a[i]\n",
    "\n",
    "        if j < n2:\n",
    "            v_b = b[j]\n",
    "        \n",
    "        if (v_a <= v_b):\n",
    "            sorted_list.append(v_a)\n",
    "            i += 1\n",
    "\n",
    "        if (v_a >= v_b):\n",
    "            sorted_list.append(v_b)\n",
    "            j += 1\n",
    "\n",
    "    # last values\n",
    "    if v_a < v_b:\n",
    "        sorted_list.append(v_b)\n",
    "    else:\n",
    "        sorted_list.append(v_a)\n",
    "\n",
    "    return sorted_list"
   ]
  },
  {
   "cell_type": "code",
   "execution_count": 89,
   "metadata": {},
   "outputs": [
    {
     "data": {
      "text/plain": [
       "[1, 2, 3, 3, 4, 5, 7, 10]"
      ]
     },
     "execution_count": 89,
     "metadata": {},
     "output_type": "execute_result"
    }
   ],
   "source": [
    "merge(a,b)"
   ]
  },
  {
   "cell_type": "code",
   "execution_count": 90,
   "metadata": {},
   "outputs": [
    {
     "data": {
      "text/plain": [
       "[1, 2, 3, 3, 4, 5, 7, 10]"
      ]
     },
     "execution_count": 90,
     "metadata": {},
     "output_type": "execute_result"
    }
   ],
   "source": [
    "merge(b,a)"
   ]
  },
  {
   "cell_type": "markdown",
   "metadata": {},
   "source": [
    "### Given a list of numbers, give a rolling average over m elements\n",
    "\n",
    "```python\n",
    "a = [1, 2, 3, 4, 5, 6, 7, 8, 9, 10]\n",
    "m = 4\n",
    "\n",
    "n = 1 avg[1,2,3,4]\n",
    "n = 2 avg[2,3,4,5]\n",
    "```"
   ]
  },
  {
   "cell_type": "code",
   "execution_count": 118,
   "metadata": {},
   "outputs": [],
   "source": [
    "a = [1, 2, 3, 4, 5, 6, 7, 8, 9, 10]\n",
    "\n",
    "def rolling_avg(a, m=4):\n",
    "    length = len(a)\n",
    "    buffer = [None] * m\n",
    "    buffer[:m] = a[:m]\n",
    "    avgs = [sum(buffer) / m]\n",
    "    k = m\n",
    "    \n",
    "    while k < length:\n",
    "        buffer.pop(0)\n",
    "        buffer.append(a[k])\n",
    "        k += 1\n",
    "        avgs.append(sum(buffer) / m)\n",
    "            \n",
    "    print(k, a)\n",
    "    return avgs\n",
    "    "
   ]
  },
  {
   "cell_type": "code",
   "execution_count": 119,
   "metadata": {},
   "outputs": [
    {
     "name": "stdout",
     "output_type": "stream",
     "text": [
      "10 [1, 2, 3, 4, 5, 6, 7, 8, 9, 10]\n"
     ]
    },
    {
     "data": {
      "text/plain": [
       "[2.0, 3.0, 4.0, 5.0, 6.0, 7.0, 8.0, 9.0]"
      ]
     },
     "execution_count": 119,
     "metadata": {},
     "output_type": "execute_result"
    }
   ],
   "source": [
    "rolling_avg(a, m=3)"
   ]
  },
  {
   "cell_type": "markdown",
   "metadata": {},
   "source": [
    "### Integer array get pairs of values that equal a certain target value  \n",
    "\n",
    "```\n",
    "# assume sorted\n",
    "# assume all positive\n",
    "a = [1,2,3,4,5,6,7,8,9]\n",
    "target = 10\n",
    "```"
   ]
  },
  {
   "cell_type": "code",
   "execution_count": 132,
   "metadata": {},
   "outputs": [],
   "source": [
    "import random\n",
    "\n",
    "def get_pairs(a, target=10):\n",
    "    pairs = []\n",
    "    j = 0 \n",
    "    k = len(a) -1\n",
    "    \n",
    "    while j <= k:\n",
    "        if a[j] + a[k] < target:\n",
    "            j += 1\n",
    "        elif a[j] + a[k] > target:\n",
    "            k -= 1\n",
    "        else:\n",
    "            pairs.append([a[j], a[k]])\n",
    "            j +=1\n",
    "        \n",
    "    return pairs\n",
    "    \n",
    "            \n",
    "    \n",
    "a = [1, 2, 3, 4, 5, 6, 7, 8, 9, 10, 11, 12]"
   ]
  },
  {
   "cell_type": "code",
   "execution_count": 131,
   "metadata": {},
   "outputs": [
    {
     "data": {
      "text/plain": [
       "[[1, 9], [2, 8], [4, 6], [5, 5]]"
      ]
     },
     "execution_count": 131,
     "metadata": {},
     "output_type": "execute_result"
    }
   ],
   "source": [
    "get_pairs(a)"
   ]
  },
  {
   "cell_type": "markdown",
   "metadata": {},
   "source": [
    "### Design a hit counter\n",
    "\n",
    "```\n",
    "HitCounter counter = new HitCounter();\n",
    "\n",
    "// hit at timestamp 1.\n",
    "counter.hit(1);\n",
    "\n",
    "// hit at timestamp 2.\n",
    "counter.hit(2);\n",
    "\n",
    "// hit at timestamp 3.\n",
    "counter.hit(3);\n",
    "\n",
    "// get hits at timestamp 4, should return 3.\n",
    "counter.getHits(4);\n",
    "\n",
    "// hit at timestamp 300.\n",
    "counter.hit(300);\n",
    "\n",
    "// get hits at timestamp 300, should return 4.\n",
    "counter.getHits(300);\n",
    "\n",
    "// get hits at timestamp 301, should return 3.\n",
    "counter.getHits(301);\n",
    "```"
   ]
  },
  {
   "cell_type": "code",
   "execution_count": 10,
   "metadata": {},
   "outputs": [],
   "source": [
    "s = 'abaa'\n",
    "n = 18"
   ]
  },
  {
   "cell_type": "code",
   "execution_count": 15,
   "metadata": {},
   "outputs": [
    {
     "name": "stdout",
     "output_type": "stream",
     "text": [
      "[1, 1, 2, 3]\n",
      "2\n"
     ]
    },
    {
     "data": {
      "text/plain": [
       "13"
      ]
     },
     "execution_count": 15,
     "metadata": {},
     "output_type": "execute_result"
    }
   ],
   "source": [
    "def repeatedString(s, n):\n",
    "    a_count = 0\n",
    "    a_storage = []\n",
    "\n",
    "    for char in s:\n",
    "        if char == 'a':\n",
    "            a_count += 1\n",
    "        a_storage.append(a_count)\n",
    "    print(a_storage)\n",
    "\n",
    "    if a_count == len(s):\n",
    "        return n\n",
    "\n",
    "    phrase_len = len(s)\n",
    "    full = n // phrase_len\n",
    "    diff = n % phrase_len\n",
    "    \n",
    "    print(diff)\n",
    "\n",
    "    if diff == 0:\n",
    "        total_a = full * a_count\n",
    "    else:\n",
    "        total_a = full * a_count + a_storage[diff-1]\n",
    "    return total_a\n",
    "\n",
    "repeatedString(s, n)"
   ]
  },
  {
   "cell_type": "code",
   "execution_count": null,
   "metadata": {},
   "outputs": [],
   "source": [
    "n=9\n",
    "\n",
    "ar = [10,20, 20, 10, 10, 30, 50, 10, 20]"
   ]
  },
  {
   "cell_type": "code",
   "execution_count": null,
   "metadata": {},
   "outputs": [],
   "source": [
    "def sockMerchant(n, ar):\n",
    "    counter = {}\n",
    "    for label in ar:\n",
    "        if counter.get(label) is None:\n",
    "            counter[label] = 1\n",
    "        else:\n",
    "            counter[label] += 1\n",
    "    \n",
    "    sock_count = 0\n",
    "    for vl in counter.values():\n",
    "        sock_count = vl // 2\n",
    "\n",
    "    return sock_count"
   ]
  },
  {
   "cell_type": "code",
   "execution_count": 16,
   "metadata": {},
   "outputs": [],
   "source": [
    "arr = [[1,2,3], [4,5,6]]"
   ]
  },
  {
   "cell_type": "code",
   "execution_count": 17,
   "metadata": {},
   "outputs": [
    {
     "data": {
      "text/plain": [
       "2"
      ]
     },
     "execution_count": 17,
     "metadata": {},
     "output_type": "execute_result"
    }
   ],
   "source": [
    "len(arr)"
   ]
  },
  {
   "cell_type": "code",
   "execution_count": 18,
   "metadata": {},
   "outputs": [
    {
     "data": {
      "text/plain": [
       "3"
      ]
     },
     "execution_count": 18,
     "metadata": {},
     "output_type": "execute_result"
    }
   ],
   "source": [
    "len(arr[0])"
   ]
  },
  {
   "cell_type": "code",
   "execution_count": 26,
   "metadata": {},
   "outputs": [
    {
     "name": "stdout",
     "output_type": "stream",
     "text": [
      "1 1,-26\n",
      "1 2,-30\n",
      "1 3,-39\n",
      "1 4,-38\n",
      "2 1,-19\n",
      "2 2,-26\n",
      "2 3,-39\n",
      "2 4,-36\n",
      "3 1,-26\n",
      "3 2,-30\n",
      "3 3,-38\n",
      "3 4,-47\n",
      "4 1,-20\n",
      "4 2,-25\n",
      "4 3,-34\n",
      "4 4,-43\n"
     ]
    },
    {
     "data": {
      "text/plain": [
       "0"
      ]
     },
     "execution_count": 26,
     "metadata": {},
     "output_type": "execute_result"
    }
   ],
   "source": [
    "a = [[0,-4,-6,0,-7,-6],\n",
    "[-1,-2,-6,-8,-3,-1],\n",
    "[-8,-4,-2,-8,-8,-6],\n",
    "[-3,-1,-2,-5,-7,-4],\n",
    "[-3,-5,-3,-6,-6,-6],\n",
    "[-3,-6,0,-8,-6,-7]]\n",
    "\n",
    "def hourglassSum(arr):\n",
    "    rows = len(arr)\n",
    "    cols = len(arr[0])\n",
    "\n",
    "    max_sum = 0\n",
    "    for j in range(1, rows-1):\n",
    "        for k in range(1, cols-1):\n",
    "            print(j,k, end=',')\n",
    "            hourglass_sum = sum(arr[j-1][k-1:k+2]) + arr[j][k] + sum(arr[j+1][k-1:k+2])\n",
    "            print(hourglass_sum)\n",
    "            if hourglass_sum > max_sum:\n",
    "                max_sum = hourglass_sum\n",
    "\n",
    "    return max_sum\n",
    "\n",
    "hourglassSum(a)"
   ]
  },
  {
   "cell_type": "code",
   "execution_count": null,
   "metadata": {},
   "outputs": [],
   "source": []
  }
 ],
 "metadata": {
  "kernelspec": {
   "display_name": "Python 3",
   "language": "python",
   "name": "python3"
  },
  "language_info": {
   "codemirror_mode": {
    "name": "ipython",
    "version": 3
   },
   "file_extension": ".py",
   "mimetype": "text/x-python",
   "name": "python",
   "nbconvert_exporter": "python",
   "pygments_lexer": "ipython3",
   "version": "3.6.5"
  }
 },
 "nbformat": 4,
 "nbformat_minor": 2
}
