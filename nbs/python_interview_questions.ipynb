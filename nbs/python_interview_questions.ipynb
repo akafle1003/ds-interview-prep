{
 "cells": [
  {
   "cell_type": "markdown",
   "metadata": {},
   "source": [
    "### Design a hit counter\n",
    "\n",
    "```\n",
    "HitCounter counter = new HitCounter();\n",
    "\n",
    "// hit at timestamp 1.\n",
    "counter.hit(1);\n",
    "\n",
    "// hit at timestamp 2.\n",
    "counter.hit(2);\n",
    "\n",
    "// hit at timestamp 3.\n",
    "counter.hit(3);\n",
    "\n",
    "// get hits at timestamp 4, should return 3.\n",
    "counter.getHits(4);\n",
    "\n",
    "// hit at timestamp 300.\n",
    "counter.hit(300);\n",
    "\n",
    "// get hits at timestamp 300, should return 4.\n",
    "counter.getHits(300);\n",
    "\n",
    "// get hits at timestamp 301, should return 3.\n",
    "counter.getHits(301);\n",
    "```"
   ]
  },
  {
   "cell_type": "code",
   "execution_count": 10,
   "metadata": {},
   "outputs": [],
   "source": [
    "s = 'abaa'\n",
    "n = 18"
   ]
  },
  {
   "cell_type": "code",
   "execution_count": 15,
   "metadata": {},
   "outputs": [
    {
     "name": "stdout",
     "output_type": "stream",
     "text": [
      "[1, 1, 2, 3]\n",
      "2\n"
     ]
    },
    {
     "data": {
      "text/plain": [
       "13"
      ]
     },
     "execution_count": 15,
     "metadata": {},
     "output_type": "execute_result"
    }
   ],
   "source": [
    "def repeatedString(s, n):\n",
    "    a_count = 0\n",
    "    a_storage = []\n",
    "\n",
    "    for char in s:\n",
    "        if char == 'a':\n",
    "            a_count += 1\n",
    "        a_storage.append(a_count)\n",
    "    print(a_storage)\n",
    "\n",
    "    if a_count == len(s):\n",
    "        return n\n",
    "\n",
    "    phrase_len = len(s)\n",
    "    full = n // phrase_len\n",
    "    diff = n % phrase_len\n",
    "    \n",
    "    print(diff)\n",
    "\n",
    "    if diff == 0:\n",
    "        total_a = full * a_count\n",
    "    else:\n",
    "        total_a = full * a_count + a_storage[diff-1]\n",
    "    return total_a\n",
    "\n",
    "repeatedString(s, n)"
   ]
  },
  {
   "cell_type": "code",
   "execution_count": null,
   "metadata": {},
   "outputs": [],
   "source": [
    "n=9\n",
    "\n",
    "ar = [10,20, 20, 10, 10, 30, 50, 10, 20]"
   ]
  },
  {
   "cell_type": "code",
   "execution_count": null,
   "metadata": {},
   "outputs": [],
   "source": [
    "def sockMerchant(n, ar):\n",
    "    counter = {}\n",
    "    for label in ar:\n",
    "        if counter.get(label) is None:\n",
    "            counter[label] = 1\n",
    "        else:\n",
    "            counter[label] += 1\n",
    "    \n",
    "    sock_count = 0\n",
    "    for vl in counter.values():\n",
    "        sock_count = vl // 2\n",
    "\n",
    "    return sock_count"
   ]
  },
  {
   "cell_type": "code",
   "execution_count": 16,
   "metadata": {},
   "outputs": [],
   "source": [
    "arr = [[1,2,3], [4,5,6]]"
   ]
  },
  {
   "cell_type": "code",
   "execution_count": 17,
   "metadata": {},
   "outputs": [
    {
     "data": {
      "text/plain": [
       "2"
      ]
     },
     "execution_count": 17,
     "metadata": {},
     "output_type": "execute_result"
    }
   ],
   "source": [
    "len(arr)"
   ]
  },
  {
   "cell_type": "code",
   "execution_count": 18,
   "metadata": {},
   "outputs": [
    {
     "data": {
      "text/plain": [
       "3"
      ]
     },
     "execution_count": 18,
     "metadata": {},
     "output_type": "execute_result"
    }
   ],
   "source": [
    "len(arr[0])"
   ]
  },
  {
   "cell_type": "code",
   "execution_count": 26,
   "metadata": {},
   "outputs": [
    {
     "name": "stdout",
     "output_type": "stream",
     "text": [
      "1 1,-26\n",
      "1 2,-30\n",
      "1 3,-39\n",
      "1 4,-38\n",
      "2 1,-19\n",
      "2 2,-26\n",
      "2 3,-39\n",
      "2 4,-36\n",
      "3 1,-26\n",
      "3 2,-30\n",
      "3 3,-38\n",
      "3 4,-47\n",
      "4 1,-20\n",
      "4 2,-25\n",
      "4 3,-34\n",
      "4 4,-43\n"
     ]
    },
    {
     "data": {
      "text/plain": [
       "0"
      ]
     },
     "execution_count": 26,
     "metadata": {},
     "output_type": "execute_result"
    }
   ],
   "source": [
    "a = [[0,-4,-6,0,-7,-6],\n",
    "[-1,-2,-6,-8,-3,-1],\n",
    "[-8,-4,-2,-8,-8,-6],\n",
    "[-3,-1,-2,-5,-7,-4],\n",
    "[-3,-5,-3,-6,-6,-6],\n",
    "[-3,-6,0,-8,-6,-7]]\n",
    "\n",
    "def hourglassSum(arr):\n",
    "    rows = len(arr)\n",
    "    cols = len(arr[0])\n",
    "\n",
    "    max_sum = 0\n",
    "    for j in range(1, rows-1):\n",
    "        for k in range(1, cols-1):\n",
    "            print(j,k, end=',')\n",
    "            hourglass_sum = sum(arr[j-1][k-1:k+2]) + arr[j][k] + sum(arr[j+1][k-1:k+2])\n",
    "            print(hourglass_sum)\n",
    "            if hourglass_sum > max_sum:\n",
    "                max_sum = hourglass_sum\n",
    "\n",
    "    return max_sum\n",
    "\n",
    "hourglassSum(a)"
   ]
  },
  {
   "cell_type": "code",
   "execution_count": null,
   "metadata": {},
   "outputs": [],
   "source": []
  }
 ],
 "metadata": {
  "kernelspec": {
   "display_name": "Python 3",
   "language": "python",
   "name": "python3"
  },
  "language_info": {
   "codemirror_mode": {
    "name": "ipython",
    "version": 3
   },
   "file_extension": ".py",
   "mimetype": "text/x-python",
   "name": "python",
   "nbconvert_exporter": "python",
   "pygments_lexer": "ipython3",
   "version": "3.6.5"
  }
 },
 "nbformat": 4,
 "nbformat_minor": 2
}
